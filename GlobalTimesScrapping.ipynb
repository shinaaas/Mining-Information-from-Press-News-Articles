{
 "cells": [
  {
   "cell_type": "code",
   "execution_count": 1,
   "id": "896cbd61",
   "metadata": {},
   "outputs": [],
   "source": [
    "from bs4 import BeautifulSoup\n",
    "import requests\n",
    "from selenium import webdriver\n",
    "from selenium.webdriver.chrome.service import Service\n",
    "import pandas as pd"
   ]
  },
  {
   "cell_type": "code",
   "execution_count": 2,
   "id": "1ec8f5e9",
   "metadata": {},
   "outputs": [],
   "source": [
    "#gt_base_url = 'https://search.globaltimes.cn/SearchCtrl?title=Ukraine Russia&begin_date=2022-02-24&end_date=2022-06-23&orderByTime=yes&page_no={}'\n",
    "#gt_base_url = 'https://search.globaltimes.cn/SearchCtrl?textPage=Ukraine&begin_date=2022-02-24&end_date=2022-06-23&orderByTime=yes&page_no={}'\n",
    "gt_base_url = 'https://search.globaltimes.cn/SearchCtrl?textPage=Ukraine&begin_date=2021-08-24&end_date=2022-02-23&orderByTime=yes&page_no={}'"
   ]
  },
  {
   "cell_type": "code",
   "execution_count": 3,
   "id": "6d3559cb",
   "metadata": {},
   "outputs": [
    {
     "name": "stdout",
     "output_type": "stream",
     "text": [
      "Processing page: 1\n",
      "Processing page: 2\n",
      "Processing page: 3\n",
      "Processing page: 4\n",
      "Processing page: 5\n",
      "Processing page: 6\n",
      "Processing page: 7\n",
      "Processing page: 8\n",
      "Processing page: 9\n",
      "Processing page: 10\n",
      "Processing page: 11\n",
      "Processing page: 12\n",
      "Processing page: 13\n",
      "Processing page: 14\n",
      "Processing page: 15\n",
      "Processing page: 16\n",
      "Processing page: 17\n",
      "Processing page: 18\n",
      "Processing page: 19\n",
      "Processing page: 20\n",
      "Processing page: 21\n",
      "Total links collected: 203\n",
      "Sample links: ['https://www.globaltimes.cn/page/202202/1252930.shtml', 'https://www.globaltimes.cn/page/202202/1252936.shtml', 'https://www.globaltimes.cn/page/202202/1252938.shtml', 'https://www.globaltimes.cn/page/202202/1252939.shtml', 'https://www.globaltimes.cn/page/202202/1252940.shtml']\n"
     ]
    }
   ],
   "source": [
    "links = []\n",
    "for page_number in range(1, 22):  #loop from page 1 to 165\n",
    "    gt_url = gt_base_url.format(page_number)\n",
    "    #print(gt_url)\n",
    "    print(\"Processing page:\", page_number)\n",
    "    \n",
    "    r = requests.get(gt_url)\n",
    "    b = BeautifulSoup(r.content, 'html.parser')\n",
    "\n",
    "    for news in b.findAll('div', {'class': 'span9'}):\n",
    "        link = news.find('a')['href']\n",
    "        links.append(link)\n",
    "\n",
    "print(\"Total links collected:\", len(links))\n",
    "print(\"Sample links:\", links[:5]) "
   ]
  },
  {
   "cell_type": "code",
   "execution_count": 4,
   "id": "4718455e",
   "metadata": {},
   "outputs": [],
   "source": [
    "#initialize webdriver\n",
    "s = Service(r\"C:\\Program Files (x86)\\chromedriver.exe\")\n",
    "driver = webdriver.Chrome(service=s)\n",
    "\n",
    "article_titles = []\n",
    "authors = []\n",
    "published_times = []\n",
    "article_texts = []\n",
    "\n",
    "#loop through each link\n",
    "for link in links:\n",
    "    #navigate to the page containing the article\n",
    "    driver.get(link)\n",
    "\n",
    "    #extract the HTML content of the page\n",
    "    html_content = driver.page_source\n",
    "\n",
    "    #parse the HTML content\n",
    "    soup = BeautifulSoup(html_content, \"html.parser\")\n",
    "\n",
    "    #find article title\n",
    "    article_title_elem = soup.find(\"div\", class_=\"article_title\")\n",
    "    article_title = article_title_elem.text.strip() if article_title_elem else \"Title not found\"\n",
    "    article_titles.append(article_title)\n",
    "\n",
    "    #find author and published time\n",
    "    author_published_time = soup.find(\"div\", class_=\"author_share_left\")\n",
    "    author = author_published_time.find(\"span\", class_=\"byline\").text.strip() if author_published_time else \"Author not found\"\n",
    "    published_time = author_published_time.find(\"span\", class_=\"pub_time\").text.strip() if author_published_time else \"Published time not found\"\n",
    "    authors.append(author)\n",
    "    published_times.append(published_time)\n",
    "\n",
    "    #find article text\n",
    "    article_content_elem = soup.find(\"div\", class_=\"article_content\")\n",
    "    article_text = article_content_elem.text.strip() if article_content_elem else \"Article text not found\"\n",
    "    article_texts.append(article_text)\n",
    "\n",
    "#close webdriver\n",
    "driver.quit()"
   ]
  },
  {
   "cell_type": "code",
   "execution_count": 5,
   "id": "808972bd",
   "metadata": {},
   "outputs": [],
   "source": [
    "#save to csv file\n",
    "data = {\n",
    "    \"article_title\": article_titles,\n",
    "    \"author\": authors,\n",
    "    \"published_time\": published_times,\n",
    "    \"article_text\": article_texts\n",
    "}\n",
    "\n",
    "df = pd.DataFrame(data)\n",
    "df.to_csv(\"ukraine_textcontain_before.csv\", index=False)"
   ]
  },
  {
   "cell_type": "code",
   "execution_count": null,
   "id": "77983ce9",
   "metadata": {},
   "outputs": [],
   "source": []
  }
 ],
 "metadata": {
  "kernelspec": {
   "display_name": "Python 3 (ipykernel)",
   "language": "python",
   "name": "python3"
  },
  "language_info": {
   "codemirror_mode": {
    "name": "ipython",
    "version": 3
   },
   "file_extension": ".py",
   "mimetype": "text/x-python",
   "name": "python",
   "nbconvert_exporter": "python",
   "pygments_lexer": "ipython3",
   "version": "3.11.4"
  }
 },
 "nbformat": 4,
 "nbformat_minor": 5
}
