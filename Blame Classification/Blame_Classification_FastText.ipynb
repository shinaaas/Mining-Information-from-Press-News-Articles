{
 "cells": [
  {
   "cell_type": "code",
   "execution_count": 12,
   "id": "536dce16",
   "metadata": {},
   "outputs": [
    {
     "name": "stdout",
     "output_type": "stream",
     "text": [
      "Collecting fasttext-wheel\n",
      "  Downloading fasttext_wheel-0.9.2-cp311-cp311-win_amd64.whl.metadata (16 kB)\n",
      "Collecting pybind11>=2.2 (from fasttext-wheel)\n",
      "  Using cached pybind11-2.13.5-py3-none-any.whl.metadata (9.5 kB)\n",
      "Requirement already satisfied: setuptools>=0.7.0 in c:\\users\\user\\anaconda3\\lib\\site-packages (from fasttext-wheel) (68.0.0)\n",
      "Requirement already satisfied: numpy in c:\\users\\user\\anaconda3\\lib\\site-packages (from fasttext-wheel) (1.24.3)\n",
      "Downloading fasttext_wheel-0.9.2-cp311-cp311-win_amd64.whl (232 kB)\n",
      "Using cached pybind11-2.13.5-py3-none-any.whl (240 kB)\n",
      "Installing collected packages: pybind11, fasttext-wheel\n",
      "Successfully installed fasttext-wheel-0.9.2 pybind11-2.13.5\n"
     ]
    }
   ],
   "source": [
    "!pip install fasttext-wheel"
   ]
  },
  {
   "cell_type": "code",
   "execution_count": 1,
   "id": "ee6f33d8",
   "metadata": {},
   "outputs": [
    {
     "name": "stderr",
     "output_type": "stream",
     "text": [
      "C:\\Users\\User\\anaconda3\\Lib\\site-packages\\pandas\\core\\arrays\\masked.py:60: UserWarning: Pandas requires version '1.3.6' or newer of 'bottleneck' (version '1.3.5' currently installed).\n",
      "  from pandas.core import (\n"
     ]
    }
   ],
   "source": [
    "import pandas as pd\n",
    "import numpy as np\n",
    "import fasttext\n",
    "from sklearn.model_selection import train_test_split, cross_val_score\n",
    "from sklearn.metrics import classification_report, confusion_matrix, precision_score, recall_score, accuracy_score, f1_score\n",
    "from sklearn.preprocessing import LabelEncoder\n",
    "from sklearn.utils import class_weight\n",
    "import matplotlib.pyplot as plt\n",
    "import seaborn as sns"
   ]
  },
  {
   "cell_type": "code",
   "execution_count": 29,
   "id": "69d17fbd",
   "metadata": {},
   "outputs": [
    {
     "data": {
      "text/html": [
       "<div>\n",
       "<style scoped>\n",
       "    .dataframe tbody tr th:only-of-type {\n",
       "        vertical-align: middle;\n",
       "    }\n",
       "\n",
       "    .dataframe tbody tr th {\n",
       "        vertical-align: top;\n",
       "    }\n",
       "\n",
       "    .dataframe thead th {\n",
       "        text-align: right;\n",
       "    }\n",
       "</style>\n",
       "<table border=\"1\" class=\"dataframe\">\n",
       "  <thead>\n",
       "    <tr style=\"text-align: right;\">\n",
       "      <th></th>\n",
       "      <th>Article ID</th>\n",
       "      <th>Article's topic</th>\n",
       "      <th>Sentence ID</th>\n",
       "      <th>Sentence</th>\n",
       "      <th>Label</th>\n",
       "    </tr>\n",
       "  </thead>\n",
       "  <tbody>\n",
       "    <tr>\n",
       "      <th>0</th>\n",
       "      <td>Article 1</td>\n",
       "      <td>Ukraine's membership in the EU &amp; NATO</td>\n",
       "      <td>Sentence 1</td>\n",
       "      <td>Illustration: Chen Xian/Global TimesUkraine is...</td>\n",
       "      <td>Other</td>\n",
       "    </tr>\n",
       "    <tr>\n",
       "      <th>1</th>\n",
       "      <td>Article 1</td>\n",
       "      <td>NaN</td>\n",
       "      <td>Sentence 2</td>\n",
       "      <td>Several European diplomats confirmed Tuesday t...</td>\n",
       "      <td>Other</td>\n",
       "    </tr>\n",
       "    <tr>\n",
       "      <th>2</th>\n",
       "      <td>Article 1</td>\n",
       "      <td>NaN</td>\n",
       "      <td>Sentence 3</td>\n",
       "      <td>In the context of the ongoing Russia-Ukraine c...</td>\n",
       "      <td>Other</td>\n",
       "    </tr>\n",
       "    <tr>\n",
       "      <th>3</th>\n",
       "      <td>Article 1</td>\n",
       "      <td>NaN</td>\n",
       "      <td>Sentence 4</td>\n",
       "      <td>Apparently, the EU has been completely hijacke...</td>\n",
       "      <td>Blame</td>\n",
       "    </tr>\n",
       "    <tr>\n",
       "      <th>4</th>\n",
       "      <td>Article 1</td>\n",
       "      <td>NaN</td>\n",
       "      <td>Sentence 5</td>\n",
       "      <td>Facing a dilemma, it had no choice but to open...</td>\n",
       "      <td>Blame</td>\n",
       "    </tr>\n",
       "  </tbody>\n",
       "</table>\n",
       "</div>"
      ],
      "text/plain": [
       "  Article ID                        Article's topic Sentence ID  \\\n",
       "0  Article 1  Ukraine's membership in the EU & NATO  Sentence 1   \n",
       "1  Article 1                                    NaN  Sentence 2   \n",
       "2  Article 1                                    NaN  Sentence 3   \n",
       "3  Article 1                                    NaN  Sentence 4   \n",
       "4  Article 1                                    NaN  Sentence 5   \n",
       "\n",
       "                                            Sentence   Label  \n",
       "0  Illustration: Chen Xian/Global TimesUkraine is...  Other   \n",
       "1  Several European diplomats confirmed Tuesday t...  Other   \n",
       "2  In the context of the ongoing Russia-Ukraine c...  Other   \n",
       "3  Apparently, the EU has been completely hijacke...   Blame  \n",
       "4  Facing a dilemma, it had no choice but to open...   Blame  "
      ]
     },
     "execution_count": 29,
     "metadata": {},
     "output_type": "execute_result"
    }
   ],
   "source": [
    "df = pd.read_excel('Downloads/blame_dataset_v2.xlsx') \n",
    "df = df.rename(columns={'Blame/Praise/Other' : 'Label'})\n",
    "df.head()"
   ]
  },
  {
   "cell_type": "code",
   "execution_count": 30,
   "id": "d8fede3c",
   "metadata": {},
   "outputs": [
    {
     "data": {
      "text/plain": [
       "(436, 5)"
      ]
     },
     "execution_count": 30,
     "metadata": {},
     "output_type": "execute_result"
    }
   ],
   "source": [
    "df.shape"
   ]
  },
  {
   "cell_type": "code",
   "execution_count": 31,
   "id": "ea100a53",
   "metadata": {},
   "outputs": [
    {
     "name": "stdout",
     "output_type": "stream",
     "text": [
      "Article ID           0\n",
      "Article's topic    426\n",
      "Sentence ID          0\n",
      "Sentence             0\n",
      "Label              224\n",
      "dtype: int64\n"
     ]
    }
   ],
   "source": [
    "missing_values = df.isnull().sum()\n",
    "print(missing_values)"
   ]
  },
  {
   "cell_type": "code",
   "execution_count": 32,
   "id": "a41643cf",
   "metadata": {},
   "outputs": [
    {
     "data": {
      "text/plain": [
       "array(['Other ', 'Blame', 'Blame/Praise', 'Blame ', 'Praise ', nan,\n",
       "       'Blame / Praise', 'Blame  ', 'Criticism '], dtype=object)"
      ]
     },
     "execution_count": 32,
     "metadata": {},
     "output_type": "execute_result"
    }
   ],
   "source": [
    "#check unique classes\n",
    "df['Label'].unique()"
   ]
  },
  {
   "cell_type": "code",
   "execution_count": 33,
   "id": "3d136518",
   "metadata": {},
   "outputs": [],
   "source": [
    "df = df.dropna(subset=['Label']) #or use df = df[df['Label'].notna()]\n",
    "df['Label'] = df['Label'].str.strip()\n",
    "df = df[df['Sentence'].apply(lambda x: len(x.split()) >= 3)]\n",
    "df = df[~df['Label'].isin(['Blame/Praise', 'Blame / Praise', 'Criticism'])]"
   ]
  },
  {
   "cell_type": "code",
   "execution_count": 34,
   "id": "7e713d54",
   "metadata": {},
   "outputs": [
    {
     "data": {
      "text/plain": [
       "(194, 5)"
      ]
     },
     "execution_count": 34,
     "metadata": {},
     "output_type": "execute_result"
    }
   ],
   "source": [
    "df.shape"
   ]
  },
  {
   "cell_type": "code",
   "execution_count": 36,
   "id": "dfeb713e",
   "metadata": {},
   "outputs": [
    {
     "data": {
      "text/plain": [
       "Label\n",
       "Blame     99\n",
       "Other     75\n",
       "Praise    20\n",
       "Name: count, dtype: int64"
      ]
     },
     "execution_count": 36,
     "metadata": {},
     "output_type": "execute_result"
    }
   ],
   "source": [
    "df.Label.value_counts()"
   ]
  },
  {
   "cell_type": "markdown",
   "id": "fcf702e6",
   "metadata": {},
   "source": [
    "## Preprocessing"
   ]
  },
  {
   "cell_type": "code",
   "execution_count": 37,
   "id": "d614ebf0",
   "metadata": {},
   "outputs": [
    {
     "name": "stderr",
     "output_type": "stream",
     "text": [
      "[nltk_data] Downloading package stopwords to\n",
      "[nltk_data]     C:\\Users\\User\\AppData\\Roaming\\nltk_data...\n",
      "[nltk_data]   Package stopwords is already up-to-date!\n",
      "[nltk_data] Downloading package punkt to\n",
      "[nltk_data]     C:\\Users\\User\\AppData\\Roaming\\nltk_data...\n",
      "[nltk_data]   Package punkt is already up-to-date!\n",
      "[nltk_data] Downloading package wordnet to\n",
      "[nltk_data]     C:\\Users\\User\\AppData\\Roaming\\nltk_data...\n",
      "[nltk_data]   Package wordnet is already up-to-date!\n",
      "[nltk_data] Downloading package averaged_perceptron_tagger to\n",
      "[nltk_data]     C:\\Users\\User\\AppData\\Roaming\\nltk_data...\n",
      "[nltk_data]   Package averaged_perceptron_tagger is already up-to-\n",
      "[nltk_data]       date!\n"
     ]
    }
   ],
   "source": [
    "#Library import for preprocessing\n",
    "pd.set_option('display.max_colwidth', None)\n",
    "import re\n",
    "import nltk\n",
    "nltk.download('stopwords')\n",
    "nltk.download('punkt')\n",
    "nltk.download('wordnet')\n",
    "nltk.download('averaged_perceptron_tagger')\n",
    "from nltk.corpus import stopwords\n",
    "from nltk.tokenize import word_tokenize\n",
    "from nltk.stem import WordNetLemmatizer\n",
    "from nltk import pos_tag\n",
    "import contractions"
   ]
  },
  {
   "cell_type": "markdown",
   "id": "4e255aae",
   "metadata": {},
   "source": [
    "### Case Folding"
   ]
  },
  {
   "cell_type": "code",
   "execution_count": 38,
   "id": "18023200",
   "metadata": {},
   "outputs": [
    {
     "data": {
      "text/html": [
       "<div>\n",
       "<style scoped>\n",
       "    .dataframe tbody tr th:only-of-type {\n",
       "        vertical-align: middle;\n",
       "    }\n",
       "\n",
       "    .dataframe tbody tr th {\n",
       "        vertical-align: top;\n",
       "    }\n",
       "\n",
       "    .dataframe thead th {\n",
       "        text-align: right;\n",
       "    }\n",
       "</style>\n",
       "<table border=\"1\" class=\"dataframe\">\n",
       "  <thead>\n",
       "    <tr style=\"text-align: right;\">\n",
       "      <th></th>\n",
       "      <th>Article ID</th>\n",
       "      <th>Article's topic</th>\n",
       "      <th>Sentence ID</th>\n",
       "      <th>Sentence</th>\n",
       "      <th>Label</th>\n",
       "    </tr>\n",
       "  </thead>\n",
       "  <tbody>\n",
       "    <tr>\n",
       "      <th>0</th>\n",
       "      <td>Article 1</td>\n",
       "      <td>Ukraine's membership in the EU &amp; NATO</td>\n",
       "      <td>Sentence 1</td>\n",
       "      <td>illustration: chen xian/global timesukraine is set to become an official candidate for european union (eu) membership at the eu summit to be held on thursday and friday.</td>\n",
       "      <td>Other</td>\n",
       "    </tr>\n",
       "    <tr>\n",
       "      <th>1</th>\n",
       "      <td>Article 1</td>\n",
       "      <td>NaN</td>\n",
       "      <td>Sentence 2</td>\n",
       "      <td>several european diplomats confirmed tuesday that no countries raised objections at a meeting of the bloc's ambassadors on monday.</td>\n",
       "      <td>Other</td>\n",
       "    </tr>\n",
       "    <tr>\n",
       "      <th>2</th>\n",
       "      <td>Article 1</td>\n",
       "      <td>NaN</td>\n",
       "      <td>Sentence 3</td>\n",
       "      <td>in the context of the ongoing russia-ukraine conflict, ukraine's eu candidacy appears to be a symbolic decision, through which european countries have reaffirmed their political support for ukraine and encouraged the eastern european country to \"hang in there\" in the war.</td>\n",
       "      <td>Other</td>\n",
       "    </tr>\n",
       "    <tr>\n",
       "      <th>3</th>\n",
       "      <td>Article 1</td>\n",
       "      <td>NaN</td>\n",
       "      <td>Sentence 4</td>\n",
       "      <td>apparently, the eu has been completely hijacked by nato and the us vis-à-vis this war.</td>\n",
       "      <td>Blame</td>\n",
       "    </tr>\n",
       "    <tr>\n",
       "      <th>4</th>\n",
       "      <td>Article 1</td>\n",
       "      <td>NaN</td>\n",
       "      <td>Sentence 5</td>\n",
       "      <td>facing a dilemma, it had no choice but to open its arms to ukraine's membership, because supporting ukraine - no matter what - has become new \"political correctness\" in the west.</td>\n",
       "      <td>Blame</td>\n",
       "    </tr>\n",
       "  </tbody>\n",
       "</table>\n",
       "</div>"
      ],
      "text/plain": [
       "  Article ID                        Article's topic Sentence ID  \\\n",
       "0  Article 1  Ukraine's membership in the EU & NATO  Sentence 1   \n",
       "1  Article 1                                    NaN  Sentence 2   \n",
       "2  Article 1                                    NaN  Sentence 3   \n",
       "3  Article 1                                    NaN  Sentence 4   \n",
       "4  Article 1                                    NaN  Sentence 5   \n",
       "\n",
       "                                                                                                                                                                                                                                                                           Sentence  \\\n",
       "0                                                                                                         illustration: chen xian/global timesukraine is set to become an official candidate for european union (eu) membership at the eu summit to be held on thursday and friday.   \n",
       "1                                                                                                                                                several european diplomats confirmed tuesday that no countries raised objections at a meeting of the bloc's ambassadors on monday.   \n",
       "2  in the context of the ongoing russia-ukraine conflict, ukraine's eu candidacy appears to be a symbolic decision, through which european countries have reaffirmed their political support for ukraine and encouraged the eastern european country to \"hang in there\" in the war.   \n",
       "3                                                                                                                                                                                            apparently, the eu has been completely hijacked by nato and the us vis-à-vis this war.   \n",
       "4                                                                                                facing a dilemma, it had no choice but to open its arms to ukraine's membership, because supporting ukraine - no matter what - has become new \"political correctness\" in the west.   \n",
       "\n",
       "   Label  \n",
       "0  Other  \n",
       "1  Other  \n",
       "2  Other  \n",
       "3  Blame  \n",
       "4  Blame  "
      ]
     },
     "execution_count": 38,
     "metadata": {},
     "output_type": "execute_result"
    }
   ],
   "source": [
    "df['Sentence'] = df['Sentence'].str.lower()\n",
    "df.head()"
   ]
  },
  {
   "cell_type": "markdown",
   "id": "fb8b8391",
   "metadata": {},
   "source": [
    "### Cleansing"
   ]
  },
  {
   "cell_type": "code",
   "execution_count": 39,
   "id": "c53bce37",
   "metadata": {},
   "outputs": [],
   "source": [
    "def cleansing(sentences):\n",
    "    #remove specific links\n",
    "    sentences = re.sub(r'\\b(?:https?://|www\\.)\\S+\\b', '', sentences)\n",
    "    #remove email addresses\n",
    "    sentences = re.sub(r'\\b(?:opinion@globaltimes\\.com\\.cn|dinggang@globaltimes\\.com\\.cn)\\b', '', sentences)\n",
    "    #remove specific patterns (photo: ...)\n",
    "    sentences = re.sub(r'\\(photo: (?:[a-zA-Z0-9]+\\.[a-zA-Z]+|\\S+)\\)', '', sentences)\n",
    "    #remove patterns like note: ..., cartoon:...\n",
    "    sentences = re.sub(r'\\bphoto: \\S+', '', sentences)\n",
    "    sentences = re.sub(r'\\billustration: \\S+', '', sentences)\n",
    "    sentences = re.sub(r'\\bnote: \\S+', '', sentences)\n",
    "    sentences = re.sub(r'\\bcartoon: \\S+', '', sentences)\n",
    "    #remove possessive 's\n",
    "    sentences = re.sub(r'\\b\\'s\\b', '', sentences)\n",
    "    #remove \\n characters\n",
    "    sentences = sentences.replace('\\n', ' ')\n",
    "    #remove other punctuation except \"-\"\n",
    "    clean_sentences = re.sub(r'(@[A-Za-z0-9]+)|#[A-Za-z0-9]+|[^A-Za-z\\s\\'-]', ' ', sentences)\n",
    "    return clean_sentences"
   ]
  },
  {
   "cell_type": "code",
   "execution_count": 40,
   "id": "61ad87d4",
   "metadata": {
    "scrolled": true
   },
   "outputs": [
    {
     "data": {
      "text/html": [
       "<div>\n",
       "<style scoped>\n",
       "    .dataframe tbody tr th:only-of-type {\n",
       "        vertical-align: middle;\n",
       "    }\n",
       "\n",
       "    .dataframe tbody tr th {\n",
       "        vertical-align: top;\n",
       "    }\n",
       "\n",
       "    .dataframe thead th {\n",
       "        text-align: right;\n",
       "    }\n",
       "</style>\n",
       "<table border=\"1\" class=\"dataframe\">\n",
       "  <thead>\n",
       "    <tr style=\"text-align: right;\">\n",
       "      <th></th>\n",
       "      <th>Article ID</th>\n",
       "      <th>Article's topic</th>\n",
       "      <th>Sentence ID</th>\n",
       "      <th>Sentence</th>\n",
       "      <th>Label</th>\n",
       "    </tr>\n",
       "  </thead>\n",
       "  <tbody>\n",
       "    <tr>\n",
       "      <th>0</th>\n",
       "      <td>Article 1</td>\n",
       "      <td>Ukraine's membership in the EU &amp; NATO</td>\n",
       "      <td>Sentence 1</td>\n",
       "      <td>xian global timesukraine is set to become an official candidate for european union  eu  membership at the eu summit to be held on thursday and friday</td>\n",
       "      <td>Other</td>\n",
       "    </tr>\n",
       "    <tr>\n",
       "      <th>1</th>\n",
       "      <td>Article 1</td>\n",
       "      <td>NaN</td>\n",
       "      <td>Sentence 2</td>\n",
       "      <td>several european diplomats confirmed tuesday that no countries raised objections at a meeting of the bloc ambassadors on monday</td>\n",
       "      <td>Other</td>\n",
       "    </tr>\n",
       "    <tr>\n",
       "      <th>2</th>\n",
       "      <td>Article 1</td>\n",
       "      <td>NaN</td>\n",
       "      <td>Sentence 3</td>\n",
       "      <td>in the context of the ongoing russia-ukraine conflict  ukraine eu candidacy appears to be a symbolic decision  through which european countries have reaffirmed their political support for ukraine and encouraged the eastern european country to  hang in there  in the war</td>\n",
       "      <td>Other</td>\n",
       "    </tr>\n",
       "    <tr>\n",
       "      <th>3</th>\n",
       "      <td>Article 1</td>\n",
       "      <td>NaN</td>\n",
       "      <td>Sentence 4</td>\n",
       "      <td>apparently  the eu has been completely hijacked by nato and the us vis- -vis this war</td>\n",
       "      <td>Blame</td>\n",
       "    </tr>\n",
       "    <tr>\n",
       "      <th>4</th>\n",
       "      <td>Article 1</td>\n",
       "      <td>NaN</td>\n",
       "      <td>Sentence 5</td>\n",
       "      <td>facing a dilemma  it had no choice but to open its arms to ukraine membership  because supporting ukraine - no matter what - has become new  political correctness  in the west</td>\n",
       "      <td>Blame</td>\n",
       "    </tr>\n",
       "  </tbody>\n",
       "</table>\n",
       "</div>"
      ],
      "text/plain": [
       "  Article ID                        Article's topic Sentence ID  \\\n",
       "0  Article 1  Ukraine's membership in the EU & NATO  Sentence 1   \n",
       "1  Article 1                                    NaN  Sentence 2   \n",
       "2  Article 1                                    NaN  Sentence 3   \n",
       "3  Article 1                                    NaN  Sentence 4   \n",
       "4  Article 1                                    NaN  Sentence 5   \n",
       "\n",
       "                                                                                                                                                                                                                                                                         Sentence  \\\n",
       "0                                                                                                                          xian global timesukraine is set to become an official candidate for european union  eu  membership at the eu summit to be held on thursday and friday    \n",
       "1                                                                                                                                                several european diplomats confirmed tuesday that no countries raised objections at a meeting of the bloc ambassadors on monday    \n",
       "2  in the context of the ongoing russia-ukraine conflict  ukraine eu candidacy appears to be a symbolic decision  through which european countries have reaffirmed their political support for ukraine and encouraged the eastern european country to  hang in there  in the war    \n",
       "3                                                                                                                                                                                          apparently  the eu has been completely hijacked by nato and the us vis- -vis this war    \n",
       "4                                                                                                facing a dilemma  it had no choice but to open its arms to ukraine membership  because supporting ukraine - no matter what - has become new  political correctness  in the west    \n",
       "\n",
       "   Label  \n",
       "0  Other  \n",
       "1  Other  \n",
       "2  Other  \n",
       "3  Blame  \n",
       "4  Blame  "
      ]
     },
     "execution_count": 40,
     "metadata": {},
     "output_type": "execute_result"
    }
   ],
   "source": [
    "df['Sentence'] = df['Sentence'].apply(cleansing)\n",
    "df.head()"
   ]
  },
  {
   "cell_type": "markdown",
   "id": "0acbcf01",
   "metadata": {},
   "source": [
    "### Tokenization"
   ]
  },
  {
   "cell_type": "code",
   "execution_count": 41,
   "id": "faf6bf00",
   "metadata": {},
   "outputs": [],
   "source": [
    "def tokenize(sentences):\n",
    "    return word_tokenize(sentences)"
   ]
  },
  {
   "cell_type": "code",
   "execution_count": 42,
   "id": "f1b99386",
   "metadata": {},
   "outputs": [
    {
     "data": {
      "text/html": [
       "<div>\n",
       "<style scoped>\n",
       "    .dataframe tbody tr th:only-of-type {\n",
       "        vertical-align: middle;\n",
       "    }\n",
       "\n",
       "    .dataframe tbody tr th {\n",
       "        vertical-align: top;\n",
       "    }\n",
       "\n",
       "    .dataframe thead th {\n",
       "        text-align: right;\n",
       "    }\n",
       "</style>\n",
       "<table border=\"1\" class=\"dataframe\">\n",
       "  <thead>\n",
       "    <tr style=\"text-align: right;\">\n",
       "      <th></th>\n",
       "      <th>Article ID</th>\n",
       "      <th>Article's topic</th>\n",
       "      <th>Sentence ID</th>\n",
       "      <th>Sentence</th>\n",
       "      <th>Label</th>\n",
       "    </tr>\n",
       "  </thead>\n",
       "  <tbody>\n",
       "    <tr>\n",
       "      <th>0</th>\n",
       "      <td>Article 1</td>\n",
       "      <td>Ukraine's membership in the EU &amp; NATO</td>\n",
       "      <td>Sentence 1</td>\n",
       "      <td>[xian, global, timesukraine, is, set, to, become, an, official, candidate, for, european, union, eu, membership, at, the, eu, summit, to, be, held, on, thursday, and, friday]</td>\n",
       "      <td>Other</td>\n",
       "    </tr>\n",
       "    <tr>\n",
       "      <th>1</th>\n",
       "      <td>Article 1</td>\n",
       "      <td>NaN</td>\n",
       "      <td>Sentence 2</td>\n",
       "      <td>[several, european, diplomats, confirmed, tuesday, that, no, countries, raised, objections, at, a, meeting, of, the, bloc, ambassadors, on, monday]</td>\n",
       "      <td>Other</td>\n",
       "    </tr>\n",
       "    <tr>\n",
       "      <th>2</th>\n",
       "      <td>Article 1</td>\n",
       "      <td>NaN</td>\n",
       "      <td>Sentence 3</td>\n",
       "      <td>[in, the, context, of, the, ongoing, russia-ukraine, conflict, ukraine, eu, candidacy, appears, to, be, a, symbolic, decision, through, which, european, countries, have, reaffirmed, their, political, support, for, ukraine, and, encouraged, the, eastern, european, country, to, hang, in, there, in, the, war]</td>\n",
       "      <td>Other</td>\n",
       "    </tr>\n",
       "    <tr>\n",
       "      <th>3</th>\n",
       "      <td>Article 1</td>\n",
       "      <td>NaN</td>\n",
       "      <td>Sentence 4</td>\n",
       "      <td>[apparently, the, eu, has, been, completely, hijacked, by, nato, and, the, us, vis-, -vis, this, war]</td>\n",
       "      <td>Blame</td>\n",
       "    </tr>\n",
       "    <tr>\n",
       "      <th>4</th>\n",
       "      <td>Article 1</td>\n",
       "      <td>NaN</td>\n",
       "      <td>Sentence 5</td>\n",
       "      <td>[facing, a, dilemma, it, had, no, choice, but, to, open, its, arms, to, ukraine, membership, because, supporting, ukraine, -, no, matter, what, -, has, become, new, political, correctness, in, the, west]</td>\n",
       "      <td>Blame</td>\n",
       "    </tr>\n",
       "  </tbody>\n",
       "</table>\n",
       "</div>"
      ],
      "text/plain": [
       "  Article ID                        Article's topic Sentence ID  \\\n",
       "0  Article 1  Ukraine's membership in the EU & NATO  Sentence 1   \n",
       "1  Article 1                                    NaN  Sentence 2   \n",
       "2  Article 1                                    NaN  Sentence 3   \n",
       "3  Article 1                                    NaN  Sentence 4   \n",
       "4  Article 1                                    NaN  Sentence 5   \n",
       "\n",
       "                                                                                                                                                                                                                                                                                                              Sentence  \\\n",
       "0                                                                                                                                       [xian, global, timesukraine, is, set, to, become, an, official, candidate, for, european, union, eu, membership, at, the, eu, summit, to, be, held, on, thursday, and, friday]   \n",
       "1                                                                                                                                                                  [several, european, diplomats, confirmed, tuesday, that, no, countries, raised, objections, at, a, meeting, of, the, bloc, ambassadors, on, monday]   \n",
       "2  [in, the, context, of, the, ongoing, russia-ukraine, conflict, ukraine, eu, candidacy, appears, to, be, a, symbolic, decision, through, which, european, countries, have, reaffirmed, their, political, support, for, ukraine, and, encouraged, the, eastern, european, country, to, hang, in, there, in, the, war]   \n",
       "3                                                                                                                                                                                                                [apparently, the, eu, has, been, completely, hijacked, by, nato, and, the, us, vis-, -vis, this, war]   \n",
       "4                                                                                                          [facing, a, dilemma, it, had, no, choice, but, to, open, its, arms, to, ukraine, membership, because, supporting, ukraine, -, no, matter, what, -, has, become, new, political, correctness, in, the, west]   \n",
       "\n",
       "   Label  \n",
       "0  Other  \n",
       "1  Other  \n",
       "2  Other  \n",
       "3  Blame  \n",
       "4  Blame  "
      ]
     },
     "execution_count": 42,
     "metadata": {},
     "output_type": "execute_result"
    }
   ],
   "source": [
    "df['Sentence'] = df['Sentence'].apply(tokenize)\n",
    "df.head()"
   ]
  },
  {
   "cell_type": "markdown",
   "id": "c34c24d9",
   "metadata": {},
   "source": [
    "### Stopword Removal"
   ]
  },
  {
   "cell_type": "code",
   "execution_count": 43,
   "id": "cf58b872",
   "metadata": {},
   "outputs": [],
   "source": [
    "def stop_removal(sentences):\n",
    "    words = stopwords.words('english')\n",
    "    words = set(words)\n",
    "    words.add(\"'s\")\n",
    "    return [word for word in sentences if word not in words]"
   ]
  },
  {
   "cell_type": "code",
   "execution_count": 44,
   "id": "4ee9fd12",
   "metadata": {},
   "outputs": [
    {
     "data": {
      "text/html": [
       "<div>\n",
       "<style scoped>\n",
       "    .dataframe tbody tr th:only-of-type {\n",
       "        vertical-align: middle;\n",
       "    }\n",
       "\n",
       "    .dataframe tbody tr th {\n",
       "        vertical-align: top;\n",
       "    }\n",
       "\n",
       "    .dataframe thead th {\n",
       "        text-align: right;\n",
       "    }\n",
       "</style>\n",
       "<table border=\"1\" class=\"dataframe\">\n",
       "  <thead>\n",
       "    <tr style=\"text-align: right;\">\n",
       "      <th></th>\n",
       "      <th>Article ID</th>\n",
       "      <th>Article's topic</th>\n",
       "      <th>Sentence ID</th>\n",
       "      <th>Sentence</th>\n",
       "      <th>Label</th>\n",
       "    </tr>\n",
       "  </thead>\n",
       "  <tbody>\n",
       "    <tr>\n",
       "      <th>0</th>\n",
       "      <td>Article 1</td>\n",
       "      <td>Ukraine's membership in the EU &amp; NATO</td>\n",
       "      <td>Sentence 1</td>\n",
       "      <td>[xian, global, timesukraine, set, become, official, candidate, european, union, eu, membership, eu, summit, held, thursday, friday]</td>\n",
       "      <td>Other</td>\n",
       "    </tr>\n",
       "    <tr>\n",
       "      <th>1</th>\n",
       "      <td>Article 1</td>\n",
       "      <td>NaN</td>\n",
       "      <td>Sentence 2</td>\n",
       "      <td>[several, european, diplomats, confirmed, tuesday, countries, raised, objections, meeting, bloc, ambassadors, monday]</td>\n",
       "      <td>Other</td>\n",
       "    </tr>\n",
       "    <tr>\n",
       "      <th>2</th>\n",
       "      <td>Article 1</td>\n",
       "      <td>NaN</td>\n",
       "      <td>Sentence 3</td>\n",
       "      <td>[context, ongoing, russia-ukraine, conflict, ukraine, eu, candidacy, appears, symbolic, decision, european, countries, reaffirmed, political, support, ukraine, encouraged, eastern, european, country, hang, war]</td>\n",
       "      <td>Other</td>\n",
       "    </tr>\n",
       "    <tr>\n",
       "      <th>3</th>\n",
       "      <td>Article 1</td>\n",
       "      <td>NaN</td>\n",
       "      <td>Sentence 4</td>\n",
       "      <td>[apparently, eu, completely, hijacked, nato, us, vis-, -vis, war]</td>\n",
       "      <td>Blame</td>\n",
       "    </tr>\n",
       "    <tr>\n",
       "      <th>4</th>\n",
       "      <td>Article 1</td>\n",
       "      <td>NaN</td>\n",
       "      <td>Sentence 5</td>\n",
       "      <td>[facing, dilemma, choice, open, arms, ukraine, membership, supporting, ukraine, -, matter, -, become, new, political, correctness, west]</td>\n",
       "      <td>Blame</td>\n",
       "    </tr>\n",
       "  </tbody>\n",
       "</table>\n",
       "</div>"
      ],
      "text/plain": [
       "  Article ID                        Article's topic Sentence ID  \\\n",
       "0  Article 1  Ukraine's membership in the EU & NATO  Sentence 1   \n",
       "1  Article 1                                    NaN  Sentence 2   \n",
       "2  Article 1                                    NaN  Sentence 3   \n",
       "3  Article 1                                    NaN  Sentence 4   \n",
       "4  Article 1                                    NaN  Sentence 5   \n",
       "\n",
       "                                                                                                                                                                                                             Sentence  \\\n",
       "0                                                                                 [xian, global, timesukraine, set, become, official, candidate, european, union, eu, membership, eu, summit, held, thursday, friday]   \n",
       "1                                                                                               [several, european, diplomats, confirmed, tuesday, countries, raised, objections, meeting, bloc, ambassadors, monday]   \n",
       "2  [context, ongoing, russia-ukraine, conflict, ukraine, eu, candidacy, appears, symbolic, decision, european, countries, reaffirmed, political, support, ukraine, encouraged, eastern, european, country, hang, war]   \n",
       "3                                                                                                                                                   [apparently, eu, completely, hijacked, nato, us, vis-, -vis, war]   \n",
       "4                                                                            [facing, dilemma, choice, open, arms, ukraine, membership, supporting, ukraine, -, matter, -, become, new, political, correctness, west]   \n",
       "\n",
       "   Label  \n",
       "0  Other  \n",
       "1  Other  \n",
       "2  Other  \n",
       "3  Blame  \n",
       "4  Blame  "
      ]
     },
     "execution_count": 44,
     "metadata": {},
     "output_type": "execute_result"
    }
   ],
   "source": [
    "df['Sentence'] = df['Sentence'].apply(stop_removal)\n",
    "df.head()"
   ]
  },
  {
   "cell_type": "markdown",
   "id": "1552a30a",
   "metadata": {},
   "source": [
    "### Lemmatization with POS Tagging"
   ]
  },
  {
   "cell_type": "code",
   "execution_count": 45,
   "id": "cbaf23d0",
   "metadata": {},
   "outputs": [],
   "source": [
    "def lemmatize_pos(words, pos):\n",
    "  lemmatizer = WordNetLemmatizer()\n",
    "\n",
    "  pos_mapping = {\n",
    "      'N': 'n',\n",
    "      'V': 'v',\n",
    "      'R': 'r',\n",
    "      'J': 'a'\n",
    "  }\n",
    "\n",
    "  wordnet_pos = pos_mapping.get(pos[0], 'n')\n",
    "  if wordnet_pos == 'n':\n",
    "    return lemmatizer.lemmatize(words, pos='v')\n",
    "  return lemmatizer.lemmatize(words, pos=wordnet_pos)"
   ]
  },
  {
   "cell_type": "code",
   "execution_count": 46,
   "id": "63e111c5",
   "metadata": {},
   "outputs": [
    {
     "data": {
      "text/html": [
       "<div>\n",
       "<style scoped>\n",
       "    .dataframe tbody tr th:only-of-type {\n",
       "        vertical-align: middle;\n",
       "    }\n",
       "\n",
       "    .dataframe tbody tr th {\n",
       "        vertical-align: top;\n",
       "    }\n",
       "\n",
       "    .dataframe thead th {\n",
       "        text-align: right;\n",
       "    }\n",
       "</style>\n",
       "<table border=\"1\" class=\"dataframe\">\n",
       "  <thead>\n",
       "    <tr style=\"text-align: right;\">\n",
       "      <th></th>\n",
       "      <th>Article ID</th>\n",
       "      <th>Article's topic</th>\n",
       "      <th>Sentence ID</th>\n",
       "      <th>Sentence</th>\n",
       "      <th>Label</th>\n",
       "    </tr>\n",
       "  </thead>\n",
       "  <tbody>\n",
       "    <tr>\n",
       "      <th>0</th>\n",
       "      <td>Article 1</td>\n",
       "      <td>Ukraine's membership in the EU &amp; NATO</td>\n",
       "      <td>Sentence 1</td>\n",
       "      <td>xian global timesukraine set become official candidate european union eu membership eu summit hold thursday friday</td>\n",
       "      <td>Other</td>\n",
       "    </tr>\n",
       "    <tr>\n",
       "      <th>1</th>\n",
       "      <td>Article 1</td>\n",
       "      <td>NaN</td>\n",
       "      <td>Sentence 2</td>\n",
       "      <td>several european diplomats confirm tuesday countries raise objections meet bloc ambassadors monday</td>\n",
       "      <td>Other</td>\n",
       "    </tr>\n",
       "    <tr>\n",
       "      <th>2</th>\n",
       "      <td>Article 1</td>\n",
       "      <td>NaN</td>\n",
       "      <td>Sentence 3</td>\n",
       "      <td>context ongoing russia-ukraine conflict ukraine eu candidacy appear symbolic decision european countries reaffirm political support ukraine encourage eastern european country hang war</td>\n",
       "      <td>Other</td>\n",
       "    </tr>\n",
       "    <tr>\n",
       "      <th>3</th>\n",
       "      <td>Article 1</td>\n",
       "      <td>NaN</td>\n",
       "      <td>Sentence 4</td>\n",
       "      <td>apparently eu completely hijack nato us vis- -vis war</td>\n",
       "      <td>Blame</td>\n",
       "    </tr>\n",
       "    <tr>\n",
       "      <th>4</th>\n",
       "      <td>Article 1</td>\n",
       "      <td>NaN</td>\n",
       "      <td>Sentence 5</td>\n",
       "      <td>face dilemma choice open arm ukraine membership support ukraine - matter - become new political correctness west</td>\n",
       "      <td>Blame</td>\n",
       "    </tr>\n",
       "  </tbody>\n",
       "</table>\n",
       "</div>"
      ],
      "text/plain": [
       "  Article ID                        Article's topic Sentence ID  \\\n",
       "0  Article 1  Ukraine's membership in the EU & NATO  Sentence 1   \n",
       "1  Article 1                                    NaN  Sentence 2   \n",
       "2  Article 1                                    NaN  Sentence 3   \n",
       "3  Article 1                                    NaN  Sentence 4   \n",
       "4  Article 1                                    NaN  Sentence 5   \n",
       "\n",
       "                                                                                                                                                                                  Sentence  \\\n",
       "0                                                                       xian global timesukraine set become official candidate european union eu membership eu summit hold thursday friday   \n",
       "1                                                                                       several european diplomats confirm tuesday countries raise objections meet bloc ambassadors monday   \n",
       "2  context ongoing russia-ukraine conflict ukraine eu candidacy appear symbolic decision european countries reaffirm political support ukraine encourage eastern european country hang war   \n",
       "3                                                                                                                                    apparently eu completely hijack nato us vis- -vis war   \n",
       "4                                                                         face dilemma choice open arm ukraine membership support ukraine - matter - become new political correctness west   \n",
       "\n",
       "   Label  \n",
       "0  Other  \n",
       "1  Other  \n",
       "2  Other  \n",
       "3  Blame  \n",
       "4  Blame  "
      ]
     },
     "execution_count": 46,
     "metadata": {},
     "output_type": "execute_result"
    }
   ],
   "source": [
    "#df['Sentence']  = df['Sentence'].apply(lambda x: [lemmatize_pos(words, pos) for words, pos in pos_tag(x)])\n",
    "df['Sentence'] = df['Sentence'].apply(lambda x: ' '.join([lemmatize_pos(words, pos) for words, pos in pos_tag(x)]))\n",
    "df.head()"
   ]
  },
  {
   "cell_type": "markdown",
   "id": "3bc16498",
   "metadata": {},
   "source": [
    "## FastText"
   ]
  },
  {
   "cell_type": "code",
   "execution_count": 47,
   "id": "62872f17",
   "metadata": {},
   "outputs": [
    {
     "data": {
      "text/html": [
       "<div>\n",
       "<style scoped>\n",
       "    .dataframe tbody tr th:only-of-type {\n",
       "        vertical-align: middle;\n",
       "    }\n",
       "\n",
       "    .dataframe tbody tr th {\n",
       "        vertical-align: top;\n",
       "    }\n",
       "\n",
       "    .dataframe thead th {\n",
       "        text-align: right;\n",
       "    }\n",
       "</style>\n",
       "<table border=\"1\" class=\"dataframe\">\n",
       "  <thead>\n",
       "    <tr style=\"text-align: right;\">\n",
       "      <th></th>\n",
       "      <th>Article ID</th>\n",
       "      <th>Article's topic</th>\n",
       "      <th>Sentence ID</th>\n",
       "      <th>Sentence</th>\n",
       "      <th>Label</th>\n",
       "    </tr>\n",
       "  </thead>\n",
       "  <tbody>\n",
       "    <tr>\n",
       "      <th>0</th>\n",
       "      <td>Article 1</td>\n",
       "      <td>Ukraine's membership in the EU &amp; NATO</td>\n",
       "      <td>Sentence 1</td>\n",
       "      <td>xian global timesukraine set become official candidate european union eu membership eu summit hold thursday friday</td>\n",
       "      <td>__label__Other</td>\n",
       "    </tr>\n",
       "    <tr>\n",
       "      <th>1</th>\n",
       "      <td>Article 1</td>\n",
       "      <td>NaN</td>\n",
       "      <td>Sentence 2</td>\n",
       "      <td>several european diplomats confirm tuesday countries raise objections meet bloc ambassadors monday</td>\n",
       "      <td>__label__Other</td>\n",
       "    </tr>\n",
       "    <tr>\n",
       "      <th>2</th>\n",
       "      <td>Article 1</td>\n",
       "      <td>NaN</td>\n",
       "      <td>Sentence 3</td>\n",
       "      <td>context ongoing russia-ukraine conflict ukraine eu candidacy appear symbolic decision european countries reaffirm political support ukraine encourage eastern european country hang war</td>\n",
       "      <td>__label__Other</td>\n",
       "    </tr>\n",
       "    <tr>\n",
       "      <th>3</th>\n",
       "      <td>Article 1</td>\n",
       "      <td>NaN</td>\n",
       "      <td>Sentence 4</td>\n",
       "      <td>apparently eu completely hijack nato us vis- -vis war</td>\n",
       "      <td>__label__Blame</td>\n",
       "    </tr>\n",
       "    <tr>\n",
       "      <th>4</th>\n",
       "      <td>Article 1</td>\n",
       "      <td>NaN</td>\n",
       "      <td>Sentence 5</td>\n",
       "      <td>face dilemma choice open arm ukraine membership support ukraine - matter - become new political correctness west</td>\n",
       "      <td>__label__Blame</td>\n",
       "    </tr>\n",
       "  </tbody>\n",
       "</table>\n",
       "</div>"
      ],
      "text/plain": [
       "  Article ID                        Article's topic Sentence ID  \\\n",
       "0  Article 1  Ukraine's membership in the EU & NATO  Sentence 1   \n",
       "1  Article 1                                    NaN  Sentence 2   \n",
       "2  Article 1                                    NaN  Sentence 3   \n",
       "3  Article 1                                    NaN  Sentence 4   \n",
       "4  Article 1                                    NaN  Sentence 5   \n",
       "\n",
       "                                                                                                                                                                                  Sentence  \\\n",
       "0                                                                       xian global timesukraine set become official candidate european union eu membership eu summit hold thursday friday   \n",
       "1                                                                                       several european diplomats confirm tuesday countries raise objections meet bloc ambassadors monday   \n",
       "2  context ongoing russia-ukraine conflict ukraine eu candidacy appear symbolic decision european countries reaffirm political support ukraine encourage eastern european country hang war   \n",
       "3                                                                                                                                    apparently eu completely hijack nato us vis- -vis war   \n",
       "4                                                                         face dilemma choice open arm ukraine membership support ukraine - matter - become new political correctness west   \n",
       "\n",
       "            Label  \n",
       "0  __label__Other  \n",
       "1  __label__Other  \n",
       "2  __label__Other  \n",
       "3  __label__Blame  \n",
       "4  __label__Blame  "
      ]
     },
     "execution_count": 47,
     "metadata": {},
     "output_type": "execute_result"
    }
   ],
   "source": [
    "df['Label'] = \"__label__\" + df['Label'].astype(str)\n",
    "df.head()"
   ]
  },
  {
   "cell_type": "code",
   "execution_count": 48,
   "id": "aeb33cb1",
   "metadata": {},
   "outputs": [
    {
     "data": {
      "text/html": [
       "<div>\n",
       "<style scoped>\n",
       "    .dataframe tbody tr th:only-of-type {\n",
       "        vertical-align: middle;\n",
       "    }\n",
       "\n",
       "    .dataframe tbody tr th {\n",
       "        vertical-align: top;\n",
       "    }\n",
       "\n",
       "    .dataframe thead th {\n",
       "        text-align: right;\n",
       "    }\n",
       "</style>\n",
       "<table border=\"1\" class=\"dataframe\">\n",
       "  <thead>\n",
       "    <tr style=\"text-align: right;\">\n",
       "      <th></th>\n",
       "      <th>Article ID</th>\n",
       "      <th>Article's topic</th>\n",
       "      <th>Sentence ID</th>\n",
       "      <th>Sentence</th>\n",
       "      <th>Label</th>\n",
       "      <th>Label_Sentence</th>\n",
       "    </tr>\n",
       "  </thead>\n",
       "  <tbody>\n",
       "    <tr>\n",
       "      <th>0</th>\n",
       "      <td>Article 1</td>\n",
       "      <td>Ukraine's membership in the EU &amp; NATO</td>\n",
       "      <td>Sentence 1</td>\n",
       "      <td>xian global timesukraine set become official candidate european union eu membership eu summit hold thursday friday</td>\n",
       "      <td>__label__Other</td>\n",
       "      <td>__label__Other xian global timesukraine set become official candidate european union eu membership eu summit hold thursday friday</td>\n",
       "    </tr>\n",
       "    <tr>\n",
       "      <th>1</th>\n",
       "      <td>Article 1</td>\n",
       "      <td>NaN</td>\n",
       "      <td>Sentence 2</td>\n",
       "      <td>several european diplomats confirm tuesday countries raise objections meet bloc ambassadors monday</td>\n",
       "      <td>__label__Other</td>\n",
       "      <td>__label__Other several european diplomats confirm tuesday countries raise objections meet bloc ambassadors monday</td>\n",
       "    </tr>\n",
       "    <tr>\n",
       "      <th>2</th>\n",
       "      <td>Article 1</td>\n",
       "      <td>NaN</td>\n",
       "      <td>Sentence 3</td>\n",
       "      <td>context ongoing russia-ukraine conflict ukraine eu candidacy appear symbolic decision european countries reaffirm political support ukraine encourage eastern european country hang war</td>\n",
       "      <td>__label__Other</td>\n",
       "      <td>__label__Other context ongoing russia-ukraine conflict ukraine eu candidacy appear symbolic decision european countries reaffirm political support ukraine encourage eastern european country hang war</td>\n",
       "    </tr>\n",
       "    <tr>\n",
       "      <th>3</th>\n",
       "      <td>Article 1</td>\n",
       "      <td>NaN</td>\n",
       "      <td>Sentence 4</td>\n",
       "      <td>apparently eu completely hijack nato us vis- -vis war</td>\n",
       "      <td>__label__Blame</td>\n",
       "      <td>__label__Blame apparently eu completely hijack nato us vis- -vis war</td>\n",
       "    </tr>\n",
       "    <tr>\n",
       "      <th>4</th>\n",
       "      <td>Article 1</td>\n",
       "      <td>NaN</td>\n",
       "      <td>Sentence 5</td>\n",
       "      <td>face dilemma choice open arm ukraine membership support ukraine - matter - become new political correctness west</td>\n",
       "      <td>__label__Blame</td>\n",
       "      <td>__label__Blame face dilemma choice open arm ukraine membership support ukraine - matter - become new political correctness west</td>\n",
       "    </tr>\n",
       "  </tbody>\n",
       "</table>\n",
       "</div>"
      ],
      "text/plain": [
       "  Article ID                        Article's topic Sentence ID  \\\n",
       "0  Article 1  Ukraine's membership in the EU & NATO  Sentence 1   \n",
       "1  Article 1                                    NaN  Sentence 2   \n",
       "2  Article 1                                    NaN  Sentence 3   \n",
       "3  Article 1                                    NaN  Sentence 4   \n",
       "4  Article 1                                    NaN  Sentence 5   \n",
       "\n",
       "                                                                                                                                                                                  Sentence  \\\n",
       "0                                                                       xian global timesukraine set become official candidate european union eu membership eu summit hold thursday friday   \n",
       "1                                                                                       several european diplomats confirm tuesday countries raise objections meet bloc ambassadors monday   \n",
       "2  context ongoing russia-ukraine conflict ukraine eu candidacy appear symbolic decision european countries reaffirm political support ukraine encourage eastern european country hang war   \n",
       "3                                                                                                                                    apparently eu completely hijack nato us vis- -vis war   \n",
       "4                                                                         face dilemma choice open arm ukraine membership support ukraine - matter - become new political correctness west   \n",
       "\n",
       "            Label  \\\n",
       "0  __label__Other   \n",
       "1  __label__Other   \n",
       "2  __label__Other   \n",
       "3  __label__Blame   \n",
       "4  __label__Blame   \n",
       "\n",
       "                                                                                                                                                                                           Label_Sentence  \n",
       "0                                                                       __label__Other xian global timesukraine set become official candidate european union eu membership eu summit hold thursday friday  \n",
       "1                                                                                       __label__Other several european diplomats confirm tuesday countries raise objections meet bloc ambassadors monday  \n",
       "2  __label__Other context ongoing russia-ukraine conflict ukraine eu candidacy appear symbolic decision european countries reaffirm political support ukraine encourage eastern european country hang war  \n",
       "3                                                                                                                                    __label__Blame apparently eu completely hijack nato us vis- -vis war  \n",
       "4                                                                         __label__Blame face dilemma choice open arm ukraine membership support ukraine - matter - become new political correctness west  "
      ]
     },
     "execution_count": 48,
     "metadata": {},
     "output_type": "execute_result"
    }
   ],
   "source": [
    "df['Label_Sentence'] = df['Label'] + \" \" + df['Sentence']\n",
    "df.head()"
   ]
  },
  {
   "cell_type": "code",
   "execution_count": 49,
   "id": "2d1fef86",
   "metadata": {},
   "outputs": [],
   "source": [
    "train, test = train_test_split(df, test_size=0.2, stratify=df['Label'])"
   ]
  },
  {
   "cell_type": "code",
   "execution_count": 50,
   "id": "69ee2602",
   "metadata": {},
   "outputs": [
    {
     "data": {
      "text/plain": [
       "((155, 6), (39, 6))"
      ]
     },
     "execution_count": 50,
     "metadata": {},
     "output_type": "execute_result"
    }
   ],
   "source": [
    "train.shape, test.shape"
   ]
  },
  {
   "cell_type": "code",
   "execution_count": 51,
   "id": "55a2c3dc",
   "metadata": {},
   "outputs": [
    {
     "data": {
      "text/html": [
       "<div>\n",
       "<style scoped>\n",
       "    .dataframe tbody tr th:only-of-type {\n",
       "        vertical-align: middle;\n",
       "    }\n",
       "\n",
       "    .dataframe tbody tr th {\n",
       "        vertical-align: top;\n",
       "    }\n",
       "\n",
       "    .dataframe thead th {\n",
       "        text-align: right;\n",
       "    }\n",
       "</style>\n",
       "<table border=\"1\" class=\"dataframe\">\n",
       "  <thead>\n",
       "    <tr style=\"text-align: right;\">\n",
       "      <th></th>\n",
       "      <th>Article ID</th>\n",
       "      <th>Article's topic</th>\n",
       "      <th>Sentence ID</th>\n",
       "      <th>Sentence</th>\n",
       "      <th>Label</th>\n",
       "      <th>Label_Sentence</th>\n",
       "    </tr>\n",
       "  </thead>\n",
       "  <tbody>\n",
       "    <tr>\n",
       "      <th>140</th>\n",
       "      <td>Article 5</td>\n",
       "      <td>NaN</td>\n",
       "      <td>Sentence 21</td>\n",
       "      <td>- russians arrive week say adel hosny south sinai contract manager russia-based tour operator pegas touristik</td>\n",
       "      <td>__label__Other</td>\n",
       "      <td>__label__Other - russians arrive week say adel hosny south sinai contract manager russia-based tour operator pegas touristik</td>\n",
       "    </tr>\n",
       "    <tr>\n",
       "      <th>131</th>\n",
       "      <td>Article 5</td>\n",
       "      <td>NaN</td>\n",
       "      <td>Sentence 12</td>\n",
       "      <td>picture take september show holidaymakers egyptian red sea resort sharm el-sheikh</td>\n",
       "      <td>__label__Other</td>\n",
       "      <td>__label__Other picture take september show holidaymakers egyptian red sea resort sharm el-sheikh</td>\n",
       "    </tr>\n",
       "    <tr>\n",
       "      <th>249</th>\n",
       "      <td>Article 11</td>\n",
       "      <td>NaN</td>\n",
       "      <td>Sentence 29</td>\n",
       "      <td>accord security expert jan hallengren swedish defense research institute probably sweden would able join end year</td>\n",
       "      <td>__label__Other</td>\n",
       "      <td>__label__Other accord security expert jan hallengren swedish defense research institute probably sweden would able join end year</td>\n",
       "    </tr>\n",
       "    <tr>\n",
       "      <th>109</th>\n",
       "      <td>Article 3</td>\n",
       "      <td>NaN</td>\n",
       "      <td>Sentence 34</td>\n",
       "      <td>main driver deteriorate russia-ukraine conflict nato</td>\n",
       "      <td>__label__Blame</td>\n",
       "      <td>__label__Blame main driver deteriorate russia-ukraine conflict nato</td>\n",
       "    </tr>\n",
       "    <tr>\n",
       "      <th>236</th>\n",
       "      <td>Article 11</td>\n",
       "      <td>NaN</td>\n",
       "      <td>Sentence 16</td>\n",
       "      <td>possibility sweden join nato high-tension area</td>\n",
       "      <td>__label__Blame</td>\n",
       "      <td>__label__Blame possibility sweden join nato high-tension area</td>\n",
       "    </tr>\n",
       "  </tbody>\n",
       "</table>\n",
       "</div>"
      ],
      "text/plain": [
       "     Article ID Article's topic  Sentence ID  \\\n",
       "140   Article 5             NaN  Sentence 21   \n",
       "131   Article 5             NaN  Sentence 12   \n",
       "249  Article 11             NaN  Sentence 29   \n",
       "109   Article 3             NaN  Sentence 34   \n",
       "236  Article 11             NaN  Sentence 16   \n",
       "\n",
       "                                                                                                              Sentence  \\\n",
       "140      - russians arrive week say adel hosny south sinai contract manager russia-based tour operator pegas touristik   \n",
       "131                                  picture take september show holidaymakers egyptian red sea resort sharm el-sheikh   \n",
       "249  accord security expert jan hallengren swedish defense research institute probably sweden would able join end year   \n",
       "109                                                               main driver deteriorate russia-ukraine conflict nato   \n",
       "236                                                                     possibility sweden join nato high-tension area   \n",
       "\n",
       "              Label  \\\n",
       "140  __label__Other   \n",
       "131  __label__Other   \n",
       "249  __label__Other   \n",
       "109  __label__Blame   \n",
       "236  __label__Blame   \n",
       "\n",
       "                                                                                                                       Label_Sentence  \n",
       "140      __label__Other - russians arrive week say adel hosny south sinai contract manager russia-based tour operator pegas touristik  \n",
       "131                                  __label__Other picture take september show holidaymakers egyptian red sea resort sharm el-sheikh  \n",
       "249  __label__Other accord security expert jan hallengren swedish defense research institute probably sweden would able join end year  \n",
       "109                                                               __label__Blame main driver deteriorate russia-ukraine conflict nato  \n",
       "236                                                                     __label__Blame possibility sweden join nato high-tension area  "
      ]
     },
     "execution_count": 51,
     "metadata": {},
     "output_type": "execute_result"
    }
   ],
   "source": [
    "test.head()"
   ]
  },
  {
   "cell_type": "code",
   "execution_count": 52,
   "id": "9195f2bd",
   "metadata": {},
   "outputs": [],
   "source": [
    "train.to_csv(\"blame.train\", columns=[\"Label_Sentence\"], index=False, header=False)\n",
    "test.to_csv(\"blame.test\", columns=[\"Label_Sentence\"], index=False, header=False)"
   ]
  },
  {
   "cell_type": "code",
   "execution_count": 53,
   "id": "61800aac",
   "metadata": {},
   "outputs": [],
   "source": [
    "model = fasttext.train_supervised(input = \"blame.train\")\n",
    "results = model.test(\"blame.test\")"
   ]
  },
  {
   "cell_type": "code",
   "execution_count": 54,
   "id": "29c2bfa3",
   "metadata": {},
   "outputs": [
    {
     "name": "stdout",
     "output_type": "stream",
     "text": [
      "FastText Precision: 0.5385\n",
      "FastText Recall: 0.5385\n"
     ]
    }
   ],
   "source": [
    "#default precision and recall from FastText\n",
    "print(f\"FastText Precision: {results[1]:.4f}\")\n",
    "print(f\"FastText Recall: {results[2]:.4f}\")"
   ]
  },
  {
   "cell_type": "code",
   "execution_count": 55,
   "id": "6a0e4891",
   "metadata": {},
   "outputs": [],
   "source": [
    "#get true labels and predicted labels\n",
    "y_true = test['Label'].tolist()\n",
    "y_pred = [model.predict(sentence)[0][0] for sentence in test['Sentence'].tolist()]"
   ]
  },
  {
   "cell_type": "code",
   "execution_count": 56,
   "id": "c57d303a",
   "metadata": {},
   "outputs": [],
   "source": [
    "#remove the \"__label__\"\n",
    "y_true = [label.replace('__label__', '') for label in y_true]\n",
    "y_pred = [label.replace('__label__', '') for label in y_pred]"
   ]
  },
  {
   "cell_type": "code",
   "execution_count": 57,
   "id": "f81553a9",
   "metadata": {},
   "outputs": [
    {
     "name": "stdout",
     "output_type": "stream",
     "text": [
      "Accuracy: 0.5385\n",
      "F1 Score: 0.5385\n",
      "Precision: 0.5385\n",
      "Recall: 0.5385\n"
     ]
    }
   ],
   "source": [
    "#calculate additional metrics\n",
    "accuracy = accuracy_score(y_true, y_pred)\n",
    "f1 = f1_score(y_true, y_pred, average='micro')\n",
    "precision = precision_score(y_true, y_pred, average='micro')\n",
    "recall = recall_score(y_true, y_pred, average='micro')\n",
    "\n",
    "print(f\"Accuracy: {accuracy:.4f}\")\n",
    "print(f\"F1 Score: {f1:.4f}\")\n",
    "print(f\"Precision: {precision:.4f}\")\n",
    "print(f\"Recall: {recall:.4f}\")"
   ]
  },
  {
   "cell_type": "code",
   "execution_count": 58,
   "id": "87e8d6d1",
   "metadata": {},
   "outputs": [
    {
     "name": "stdout",
     "output_type": "stream",
     "text": [
      "Classification Report:\n",
      "              precision    recall  f1-score   support\n",
      "\n",
      "       Blame       0.53      1.00      0.69        20\n",
      "       Other       1.00      0.07      0.12        15\n",
      "      Praise       0.00      0.00      0.00         4\n",
      "\n",
      "    accuracy                           0.54        39\n",
      "   macro avg       0.51      0.36      0.27        39\n",
      "weighted avg       0.65      0.54      0.40        39\n",
      "\n"
     ]
    },
    {
     "name": "stderr",
     "output_type": "stream",
     "text": [
      "C:\\Users\\User\\anaconda3\\Lib\\site-packages\\sklearn\\metrics\\_classification.py:1531: UndefinedMetricWarning: Precision is ill-defined and being set to 0.0 in labels with no predicted samples. Use `zero_division` parameter to control this behavior.\n",
      "  _warn_prf(average, modifier, f\"{metric.capitalize()} is\", len(result))\n",
      "C:\\Users\\User\\anaconda3\\Lib\\site-packages\\sklearn\\metrics\\_classification.py:1531: UndefinedMetricWarning: Precision is ill-defined and being set to 0.0 in labels with no predicted samples. Use `zero_division` parameter to control this behavior.\n",
      "  _warn_prf(average, modifier, f\"{metric.capitalize()} is\", len(result))\n",
      "C:\\Users\\User\\anaconda3\\Lib\\site-packages\\sklearn\\metrics\\_classification.py:1531: UndefinedMetricWarning: Precision is ill-defined and being set to 0.0 in labels with no predicted samples. Use `zero_division` parameter to control this behavior.\n",
      "  _warn_prf(average, modifier, f\"{metric.capitalize()} is\", len(result))\n"
     ]
    }
   ],
   "source": [
    "#classification report\n",
    "print(\"Classification Report:\")\n",
    "print(classification_report(y_true, y_pred))"
   ]
  },
  {
   "cell_type": "code",
   "execution_count": 59,
   "id": "2a0d63d3",
   "metadata": {},
   "outputs": [
    {
     "data": {
      "image/png": "[encoded data removed]",
      "text/plain": [
       "<Figure size 400x200 with 2 Axes>"
      ]
     },
     "metadata": {},
     "output_type": "display_data"
    }
   ],
   "source": [
    "#confusion matrix\n",
    "cm= confusion_matrix(y_true, y_pred)\n",
    "plt.figure(figsize=(4, 2))\n",
    "sns.heatmap(cm, annot=True, fmt='d', cmap='PuRd', xticklabels=['Blame', 'Other', 'Praise'], yticklabels=['Blame', 'Other', 'Praise'])\n",
    "plt.xlabel('Predicted')\n",
    "plt.ylabel('True')\n",
    "plt.title(f'Confusion Matrix FastText')\n",
    "plt.show()"
   ]
  },
  {
   "cell_type": "code",
   "execution_count": null,
   "id": "ca31678e",
   "metadata": {},
   "outputs": [],
   "source": []
  }
 ],
 "metadata": {
  "kernelspec": {
   "display_name": "Python 3 (ipykernel)",
   "language": "python",
   "name": "python3"
  },
  "language_info": {
   "codemirror_mode": {
    "name": "ipython",
    "version": 3
   },
   "file_extension": ".py",
   "mimetype": "text/x-python",
   "name": "python",
   "nbconvert_exporter": "python",
   "pygments_lexer": "ipython3",
   "version": "3.11.4"
  }
 },
 "nbformat": 4,
 "nbformat_minor": 5
}
